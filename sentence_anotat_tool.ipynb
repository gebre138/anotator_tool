{
 "cells": [
  {
   "cell_type": "code",
   "execution_count": 1,
   "id": "d3907871",
   "metadata": {},
   "outputs": [
    {
     "name": "stdout",
     "output_type": "stream",
     "text": [
      "\n",
      "@@@@ This is HornMorpho, version 4.3 @@@@\n",
      "\n"
     ]
    }
   ],
   "source": [
    "from amharictool.Anotator import *\n",
    "from amharictool.Anotator import ComplexityAnotator"
   ]
  },
  {
   "cell_type": "code",
   "execution_count": 3,
   "id": "8e693ab2",
   "metadata": {},
   "outputs": [
    {
     "name": "stdout",
     "output_type": "stream",
     "text": [
      "\u001b[31mደነገገ\u001b[0m\n",
      "መደበኛውንና በሕግ የተደነገገውን ሥርዓት ተከትሎ ጥፋተኛ መባልና መቀጣት ደግሞ እስራትን የመሰለ የነፃነት ማሳጣትን ቅጣት ያስከትላል ።\n",
      "\u001b[31mዘርፍ\u001b[0m\n",
      "በጥቅል ሲታይ ግን የመካከለኛና ከፍተኛ ኢንዱስትሪ ጠንካራ መሠረት መፍጠር ያልተቻለ በመሆኑ ፣ ዘርፉ ችግር ላይ እንደሆነም ጠቅሰዋል ።\n",
      "\u001b[31mብሄራዊ\u001b[0m\n",
      "በመሆኑም ብሔራዊ ፍርድ ቤቶች የሚፈፀሙ የወንጀል ድርጊቶችን ለመዳኘት የሚያስችላቸውን አቅም መገንባት እንደሚጠበቅባቸው አስገንዝበዋል ።\n",
      "\u001b[31mአደመ\u001b[0m\n",
      "አሁንም ከፖሊሶቹ በላይ የተቆጡት የችሎቱ ታዳሚዎች ከውጭ በኩል የአንበሳ ቤቱን ከበው ማበረታታቸውን ቀጥለዋል።\n",
      "\u001b[31mጽናት\u001b[0m\n",
      "በቁርጠኝነትና በዓላማ ፅናት አድፍጧል!\n",
      "\u001b[31mባላንጣ\u001b[0m\n",
      "ባላንጣዎች አብረው ይዘምታሉ።\n",
      "\u001b[31mጥንስስ\u001b[0m\n",
      "የሽብር ጥንስሱ ደግሞ ምዕራባውያን ቄሣራዊ ኃይሎች ከየአገሩ አምባገነን ጨቋኞች ጋር በማበር ሕዝቡን ለብዝበዛና ለደሀነት፣ ለጭቆናና ለጥቃት መዳረጋቸው ነው።\n",
      "\u001b[31mዘረረ\u001b[0m\n",
      "አዲስ ክስተት ሆኖ ከ20 አመት ወዲህ ብቅ ያለው የጉራማይሌ መረን መንግስት አማርኛን ያለአባት፣ ያለተንከባካቢ ሜዳ ላይ አውጥቶ ዘርሮ በመጣሉ ነው።\n",
      "\u001b[31mልሳን\u001b[0m\n",
      "አዲሶቹ ተማርን ባዮች የተወለዱበትን ወይ ያደጉበትን ልሳን ከባዕድ ቋንቋ ግርጌ ካላነጠፉት የተናገሩ አይመስላቸውም፡፡\n"
     ]
    }
   ],
   "source": [
    "unlabeld=open(\"file/freetext.txt\",'r',encoding=\"utf-8\")\n",
    "texts=unlabeld.read()\n",
    "ComplexityAnotator(texts)\n",
    "# The extructed file will be saved in 'anotated_data' folder"
   ]
  },
  {
   "cell_type": "code",
   "execution_count": null,
   "id": "0956a489",
   "metadata": {},
   "outputs": [],
   "source": []
  }
 ],
 "metadata": {
  "kernelspec": {
   "display_name": "Python 3 (ipykernel)",
   "language": "python",
   "name": "python3"
  },
  "language_info": {
   "codemirror_mode": {
    "name": "ipython",
    "version": 3
   },
   "file_extension": ".py",
   "mimetype": "text/x-python",
   "name": "python",
   "nbconvert_exporter": "python",
   "pygments_lexer": "ipython3",
   "version": "3.9.7"
  }
 },
 "nbformat": 4,
 "nbformat_minor": 5
}
